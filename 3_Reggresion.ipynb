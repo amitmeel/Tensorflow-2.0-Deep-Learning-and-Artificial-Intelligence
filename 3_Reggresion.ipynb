{
  "nbformat": 4,
  "nbformat_minor": 0,
  "metadata": {
    "colab": {
      "provenance": [],
      "authorship_tag": "ABX9TyMst7bD72Vpxelkh+IbBcDl",
      "include_colab_link": true
    },
    "kernelspec": {
      "name": "python3",
      "display_name": "Python 3"
    },
    "language_info": {
      "name": "python"
    }
  },
  "cells": [
    {
      "cell_type": "markdown",
      "metadata": {
        "id": "view-in-github",
        "colab_type": "text"
      },
      "source": [
        "<a href=\"https://colab.research.google.com/github/amitmeel/Tensorflow-2.0-Deep-Learning-and-Artificial-Intelligence/blob/main/3_Reggresion.ipynb\" target=\"_parent\"><img src=\"https://colab.research.google.com/assets/colab-badge.svg\" alt=\"Open In Colab\"/></a>"
      ]
    },
    {
      "cell_type": "code",
      "execution_count": 14,
      "metadata": {
        "id": "B9FfQySlZdRQ"
      },
      "outputs": [],
      "source": [
        "import pandas as pd\n",
        "import tensorflow as tf\n",
        "import matplotlib.pyplot as plt"
      ]
    },
    {
      "cell_type": "code",
      "source": [
        "from google.colab import files\n",
        "uploaded = files.upload()\n",
        "\n",
        "## or using wget\n",
        "## !wget https://github.com/lazyprogrammer/machine_learning_examples/blob/master/tf2.0/moore.csv"
      ],
      "metadata": {
        "colab": {
          "base_uri": "https://localhost:8080/",
          "height": 73
        },
        "id": "XURECXcqaf7j",
        "outputId": "287ef4a1-cbb0-499b-a527-4cf35e67e768"
      },
      "execution_count": 5,
      "outputs": [
        {
          "output_type": "display_data",
          "data": {
            "text/plain": [
              "<IPython.core.display.HTML object>"
            ],
            "text/html": [
              "\n",
              "     <input type=\"file\" id=\"files-37c7da84-2874-4d86-b593-768461742640\" name=\"files[]\" multiple disabled\n",
              "        style=\"border:none\" />\n",
              "     <output id=\"result-37c7da84-2874-4d86-b593-768461742640\">\n",
              "      Upload widget is only available when the cell has been executed in the\n",
              "      current browser session. Please rerun this cell to enable.\n",
              "      </output>\n",
              "      <script>// Copyright 2017 Google LLC\n",
              "//\n",
              "// Licensed under the Apache License, Version 2.0 (the \"License\");\n",
              "// you may not use this file except in compliance with the License.\n",
              "// You may obtain a copy of the License at\n",
              "//\n",
              "//      http://www.apache.org/licenses/LICENSE-2.0\n",
              "//\n",
              "// Unless required by applicable law or agreed to in writing, software\n",
              "// distributed under the License is distributed on an \"AS IS\" BASIS,\n",
              "// WITHOUT WARRANTIES OR CONDITIONS OF ANY KIND, either express or implied.\n",
              "// See the License for the specific language governing permissions and\n",
              "// limitations under the License.\n",
              "\n",
              "/**\n",
              " * @fileoverview Helpers for google.colab Python module.\n",
              " */\n",
              "(function(scope) {\n",
              "function span(text, styleAttributes = {}) {\n",
              "  const element = document.createElement('span');\n",
              "  element.textContent = text;\n",
              "  for (const key of Object.keys(styleAttributes)) {\n",
              "    element.style[key] = styleAttributes[key];\n",
              "  }\n",
              "  return element;\n",
              "}\n",
              "\n",
              "// Max number of bytes which will be uploaded at a time.\n",
              "const MAX_PAYLOAD_SIZE = 100 * 1024;\n",
              "\n",
              "function _uploadFiles(inputId, outputId) {\n",
              "  const steps = uploadFilesStep(inputId, outputId);\n",
              "  const outputElement = document.getElementById(outputId);\n",
              "  // Cache steps on the outputElement to make it available for the next call\n",
              "  // to uploadFilesContinue from Python.\n",
              "  outputElement.steps = steps;\n",
              "\n",
              "  return _uploadFilesContinue(outputId);\n",
              "}\n",
              "\n",
              "// This is roughly an async generator (not supported in the browser yet),\n",
              "// where there are multiple asynchronous steps and the Python side is going\n",
              "// to poll for completion of each step.\n",
              "// This uses a Promise to block the python side on completion of each step,\n",
              "// then passes the result of the previous step as the input to the next step.\n",
              "function _uploadFilesContinue(outputId) {\n",
              "  const outputElement = document.getElementById(outputId);\n",
              "  const steps = outputElement.steps;\n",
              "\n",
              "  const next = steps.next(outputElement.lastPromiseValue);\n",
              "  return Promise.resolve(next.value.promise).then((value) => {\n",
              "    // Cache the last promise value to make it available to the next\n",
              "    // step of the generator.\n",
              "    outputElement.lastPromiseValue = value;\n",
              "    return next.value.response;\n",
              "  });\n",
              "}\n",
              "\n",
              "/**\n",
              " * Generator function which is called between each async step of the upload\n",
              " * process.\n",
              " * @param {string} inputId Element ID of the input file picker element.\n",
              " * @param {string} outputId Element ID of the output display.\n",
              " * @return {!Iterable<!Object>} Iterable of next steps.\n",
              " */\n",
              "function* uploadFilesStep(inputId, outputId) {\n",
              "  const inputElement = document.getElementById(inputId);\n",
              "  inputElement.disabled = false;\n",
              "\n",
              "  const outputElement = document.getElementById(outputId);\n",
              "  outputElement.innerHTML = '';\n",
              "\n",
              "  const pickedPromise = new Promise((resolve) => {\n",
              "    inputElement.addEventListener('change', (e) => {\n",
              "      resolve(e.target.files);\n",
              "    });\n",
              "  });\n",
              "\n",
              "  const cancel = document.createElement('button');\n",
              "  inputElement.parentElement.appendChild(cancel);\n",
              "  cancel.textContent = 'Cancel upload';\n",
              "  const cancelPromise = new Promise((resolve) => {\n",
              "    cancel.onclick = () => {\n",
              "      resolve(null);\n",
              "    };\n",
              "  });\n",
              "\n",
              "  // Wait for the user to pick the files.\n",
              "  const files = yield {\n",
              "    promise: Promise.race([pickedPromise, cancelPromise]),\n",
              "    response: {\n",
              "      action: 'starting',\n",
              "    }\n",
              "  };\n",
              "\n",
              "  cancel.remove();\n",
              "\n",
              "  // Disable the input element since further picks are not allowed.\n",
              "  inputElement.disabled = true;\n",
              "\n",
              "  if (!files) {\n",
              "    return {\n",
              "      response: {\n",
              "        action: 'complete',\n",
              "      }\n",
              "    };\n",
              "  }\n",
              "\n",
              "  for (const file of files) {\n",
              "    const li = document.createElement('li');\n",
              "    li.append(span(file.name, {fontWeight: 'bold'}));\n",
              "    li.append(span(\n",
              "        `(${file.type || 'n/a'}) - ${file.size} bytes, ` +\n",
              "        `last modified: ${\n",
              "            file.lastModifiedDate ? file.lastModifiedDate.toLocaleDateString() :\n",
              "                                    'n/a'} - `));\n",
              "    const percent = span('0% done');\n",
              "    li.appendChild(percent);\n",
              "\n",
              "    outputElement.appendChild(li);\n",
              "\n",
              "    const fileDataPromise = new Promise((resolve) => {\n",
              "      const reader = new FileReader();\n",
              "      reader.onload = (e) => {\n",
              "        resolve(e.target.result);\n",
              "      };\n",
              "      reader.readAsArrayBuffer(file);\n",
              "    });\n",
              "    // Wait for the data to be ready.\n",
              "    let fileData = yield {\n",
              "      promise: fileDataPromise,\n",
              "      response: {\n",
              "        action: 'continue',\n",
              "      }\n",
              "    };\n",
              "\n",
              "    // Use a chunked sending to avoid message size limits. See b/62115660.\n",
              "    let position = 0;\n",
              "    do {\n",
              "      const length = Math.min(fileData.byteLength - position, MAX_PAYLOAD_SIZE);\n",
              "      const chunk = new Uint8Array(fileData, position, length);\n",
              "      position += length;\n",
              "\n",
              "      const base64 = btoa(String.fromCharCode.apply(null, chunk));\n",
              "      yield {\n",
              "        response: {\n",
              "          action: 'append',\n",
              "          file: file.name,\n",
              "          data: base64,\n",
              "        },\n",
              "      };\n",
              "\n",
              "      let percentDone = fileData.byteLength === 0 ?\n",
              "          100 :\n",
              "          Math.round((position / fileData.byteLength) * 100);\n",
              "      percent.textContent = `${percentDone}% done`;\n",
              "\n",
              "    } while (position < fileData.byteLength);\n",
              "  }\n",
              "\n",
              "  // All done.\n",
              "  yield {\n",
              "    response: {\n",
              "      action: 'complete',\n",
              "    }\n",
              "  };\n",
              "}\n",
              "\n",
              "scope.google = scope.google || {};\n",
              "scope.google.colab = scope.google.colab || {};\n",
              "scope.google.colab._files = {\n",
              "  _uploadFiles,\n",
              "  _uploadFilesContinue,\n",
              "};\n",
              "})(self);\n",
              "</script> "
            ]
          },
          "metadata": {}
        },
        {
          "output_type": "stream",
          "name": "stdout",
          "text": [
            "Saving moore.csv to moore.csv\n"
          ]
        }
      ]
    },
    {
      "cell_type": "code",
      "source": [
        "data = pd.read_csv('moore.csv', header=None)"
      ],
      "metadata": {
        "id": "K5nI8nkjanWf"
      },
      "execution_count": 6,
      "outputs": []
    },
    {
      "cell_type": "code",
      "source": [
        "X = data.loc[:,0].values\n",
        "X = X.reshape(-1,1)"
      ],
      "metadata": {
        "id": "eO4XAflXdH3C"
      },
      "execution_count": 17,
      "outputs": []
    },
    {
      "cell_type": "code",
      "source": [
        "y = data.loc[:, 1].values"
      ],
      "metadata": {
        "id": "ian6SVcgdOPq"
      },
      "execution_count": 18,
      "outputs": []
    },
    {
      "cell_type": "code",
      "source": [
        "X.shape, y.shape"
      ],
      "metadata": {
        "colab": {
          "base_uri": "https://localhost:8080/"
        },
        "id": "7PDOjjdKdaQn",
        "outputId": "986d1e7e-96f7-4126-e02b-bac63e9a6995"
      },
      "execution_count": 19,
      "outputs": [
        {
          "output_type": "execute_result",
          "data": {
            "text/plain": [
              "((162, 1), (162,))"
            ]
          },
          "metadata": {},
          "execution_count": 19
        }
      ]
    },
    {
      "cell_type": "code",
      "source": [
        "plt.scatter(X,y)"
      ],
      "metadata": {
        "colab": {
          "base_uri": "https://localhost:8080/",
          "height": 293
        },
        "id": "02qjZXxQdcIi",
        "outputId": "e2147637-95d0-4442-82ab-a1c5c975336a"
      },
      "execution_count": 20,
      "outputs": [
        {
          "output_type": "execute_result",
          "data": {
            "text/plain": [
              "<matplotlib.collections.PathCollection at 0x7ff980a81a50>"
            ]
          },
          "metadata": {},
          "execution_count": 20
        },
        {
          "output_type": "display_data",
          "data": {
            "text/plain": [
              "<Figure size 432x288 with 1 Axes>"
            ],
            "image/png": "[encoded data removed]"
          },
          "metadata": {
            "needs_background": "light"
          }
        }
      ]
    },
    {
      "cell_type": "code",
      "source": [
        "import numpy as np\n",
        "y = np.log(y)"
      ],
      "metadata": {
        "id": "J7YmuD2JdhDp"
      },
      "execution_count": 21,
      "outputs": []
    },
    {
      "cell_type": "code",
      "source": [
        "plt.scatter(X,y)"
      ],
      "metadata": {
        "colab": {
          "base_uri": "https://localhost:8080/",
          "height": 282
        },
        "id": "hys9o7rcd7vj",
        "outputId": "41feeeec-3dea-482c-9e87-0cecd868e5a8"
      },
      "execution_count": 22,
      "outputs": [
        {
          "output_type": "execute_result",
          "data": {
            "text/plain": [
              "<matplotlib.collections.PathCollection at 0x7ff980a0cbd0>"
            ]
          },
          "metadata": {},
          "execution_count": 22
        },
        {
          "output_type": "display_data",
          "data": {
            "text/plain": [
              "<Figure size 432x288 with 1 Axes>"
            ],
            "image/png": "[encoded data removed]"
          },
          "metadata": {
            "needs_background": "light"
          }
        }
      ]
    },
    {
      "cell_type": "code",
      "source": [
        "X = X - X.mean()"
      ],
      "metadata": {
        "id": "NTeA61xid89R"
      },
      "execution_count": 23,
      "outputs": []
    },
    {
      "cell_type": "code",
      "source": [
        "plt.scatter(X,y)"
      ],
      "metadata": {
        "colab": {
          "base_uri": "https://localhost:8080/",
          "height": 282
        },
        "id": "gKJ5Oss7eHQ1",
        "outputId": "c59f1943-6a91-4cdc-c272-69fd6c8dd853"
      },
      "execution_count": 24,
      "outputs": [
        {
          "output_type": "execute_result",
          "data": {
            "text/plain": [
              "<matplotlib.collections.PathCollection at 0x7ff980471f10>"
            ]
          },
          "metadata": {},
          "execution_count": 24
        },
        {
          "output_type": "display_data",
          "data": {
            "text/plain": [
              "<Figure size 432x288 with 1 Axes>"
            ],
            "image/png": "[encoded data removed]"
          },
          "metadata": {
            "needs_background": "light"
          }
        }
      ]
    },
    {
      "cell_type": "code",
      "source": [
        "model = tf.keras.models.Sequential([\n",
        "    tf.keras.layers.Input(shape=(1,)),\n",
        "    tf.keras.layers.Dense(1)\n",
        "])\n",
        "\n",
        "model.compile(optimizer=tf.keras.optimizers.SGD(learning_rate=0.001, momentum=0.9), loss='mse')\n",
        "\n",
        "\n",
        "def schedule(epoch, lr):\n",
        "  if epoch > 50:\n",
        "     return 0.0001\n",
        "  return 0.001\n",
        "\n",
        "scheduler = tf.keras.callbacks.LearningRateScheduler(schedule, verbose=0)\n",
        "\n",
        "history = model.fit(X,y, epochs=200, callbacks=[scheduler])"
      ],
      "metadata": {
        "colab": {
          "base_uri": "https://localhost:8080/"
        },
        "id": "LEz8JffoeJmt",
        "outputId": "229e745b-b8a3-4b75-901b-7ae4bbd933cd"
      },
      "execution_count": 26,
      "outputs": [
        {
          "output_type": "stream",
          "name": "stdout",
          "text": [
            "Epoch 1/200\n",
            "6/6 [==============================] - 1s 3ms/step - loss: 415.4577 - lr: 0.0010\n",
            "Epoch 2/200\n",
            "6/6 [==============================] - 0s 3ms/step - loss: 415.6899 - lr: 0.0010\n",
            "Epoch 3/200\n",
            "6/6 [==============================] - 0s 3ms/step - loss: 318.9534 - lr: 0.0010\n",
            "Epoch 4/200\n",
            "6/6 [==============================] - 0s 3ms/step - loss: 228.4341 - lr: 0.0010\n",
            "Epoch 5/200\n",
            "6/6 [==============================] - 0s 3ms/step - loss: 241.7671 - lr: 0.0010\n",
            "Epoch 6/200\n",
            "6/6 [==============================] - 0s 3ms/step - loss: 204.2258 - lr: 0.0010\n",
            "Epoch 7/200\n",
            "6/6 [==============================] - 0s 3ms/step - loss: 135.6497 - lr: 0.0010\n",
            "Epoch 8/200\n",
            "6/6 [==============================] - 0s 3ms/step - loss: 102.3472 - lr: 0.0010\n",
            "Epoch 9/200\n",
            "6/6 [==============================] - 0s 4ms/step - loss: 115.2790 - lr: 0.0010\n",
            "Epoch 10/200\n",
            "6/6 [==============================] - 0s 3ms/step - loss: 75.7606 - lr: 0.0010\n",
            "Epoch 11/200\n",
            "6/6 [==============================] - 0s 4ms/step - loss: 56.4718 - lr: 0.0010\n",
            "Epoch 12/200\n",
            "6/6 [==============================] - 0s 3ms/step - loss: 28.2449 - lr: 0.0010\n",
            "Epoch 13/200\n",
            "6/6 [==============================] - 0s 3ms/step - loss: 33.5233 - lr: 0.0010\n",
            "Epoch 14/200\n",
            "6/6 [==============================] - 0s 3ms/step - loss: 38.0497 - lr: 0.0010\n",
            "Epoch 15/200\n",
            "6/6 [==============================] - 0s 3ms/step - loss: 22.5186 - lr: 0.0010\n",
            "Epoch 16/200\n",
            "6/6 [==============================] - 0s 3ms/step - loss: 25.8844 - lr: 0.0010\n",
            "Epoch 17/200\n",
            "6/6 [==============================] - 0s 3ms/step - loss: 23.5297 - lr: 0.0010\n",
            "Epoch 18/200\n",
            "6/6 [==============================] - 0s 3ms/step - loss: 11.3396 - lr: 0.0010\n",
            "Epoch 19/200\n",
            "6/6 [==============================] - 0s 3ms/step - loss: 7.5442 - lr: 0.0010\n",
            "Epoch 20/200\n",
            "6/6 [==============================] - 0s 3ms/step - loss: 3.5098 - lr: 0.0010\n",
            "Epoch 21/200\n",
            "6/6 [==============================] - 0s 3ms/step - loss: 2.3605 - lr: 0.0010\n",
            "Epoch 22/200\n",
            "6/6 [==============================] - 0s 3ms/step - loss: 2.2386 - lr: 0.0010\n",
            "Epoch 23/200\n",
            "6/6 [==============================] - 0s 3ms/step - loss: 1.6575 - lr: 0.0010\n",
            "Epoch 24/200\n",
            "6/6 [==============================] - 0s 3ms/step - loss: 1.2010 - lr: 0.0010\n",
            "Epoch 25/200\n",
            "6/6 [==============================] - 0s 3ms/step - loss: 1.1241 - lr: 0.0010\n",
            "Epoch 26/200\n",
            "6/6 [==============================] - 0s 3ms/step - loss: 1.0858 - lr: 0.0010\n",
            "Epoch 27/200\n",
            "6/6 [==============================] - 0s 3ms/step - loss: 1.0140 - lr: 0.0010\n",
            "Epoch 28/200\n",
            "6/6 [==============================] - 0s 3ms/step - loss: 0.9664 - lr: 0.0010\n",
            "Epoch 29/200\n",
            "6/6 [==============================] - 0s 3ms/step - loss: 1.1480 - lr: 0.0010\n",
            "Epoch 30/200\n",
            "6/6 [==============================] - 0s 5ms/step - loss: 2.2932 - lr: 0.0010\n",
            "Epoch 31/200\n",
            "6/6 [==============================] - 0s 3ms/step - loss: 1.8071 - lr: 0.0010\n",
            "Epoch 32/200\n",
            "6/6 [==============================] - 0s 3ms/step - loss: 1.3282 - lr: 0.0010\n",
            "Epoch 33/200\n",
            "6/6 [==============================] - 0s 3ms/step - loss: 2.1413 - lr: 0.0010\n",
            "Epoch 34/200\n",
            "6/6 [==============================] - 0s 3ms/step - loss: 1.3585 - lr: 0.0010\n",
            "Epoch 35/200\n",
            "6/6 [==============================] - 0s 3ms/step - loss: 1.1679 - lr: 0.0010\n",
            "Epoch 36/200\n",
            "6/6 [==============================] - 0s 3ms/step - loss: 1.1510 - lr: 0.0010\n",
            "Epoch 37/200\n",
            "6/6 [==============================] - 0s 3ms/step - loss: 1.0268 - lr: 0.0010\n",
            "Epoch 38/200\n",
            "6/6 [==============================] - 0s 3ms/step - loss: 0.9182 - lr: 0.0010\n",
            "Epoch 39/200\n",
            "6/6 [==============================] - 0s 3ms/step - loss: 0.9593 - lr: 0.0010\n",
            "Epoch 40/200\n",
            "6/6 [==============================] - 0s 3ms/step - loss: 0.9170 - lr: 0.0010\n",
            "Epoch 41/200\n",
            "6/6 [==============================] - 0s 3ms/step - loss: 0.9245 - lr: 0.0010\n",
            "Epoch 42/200\n",
            "6/6 [==============================] - 0s 3ms/step - loss: 0.8963 - lr: 0.0010\n",
            "Epoch 43/200\n",
            "6/6 [==============================] - 0s 3ms/step - loss: 0.8805 - lr: 0.0010\n",
            "Epoch 44/200\n",
            "6/6 [==============================] - 0s 3ms/step - loss: 0.9318 - lr: 0.0010\n",
            "Epoch 45/200\n",
            "6/6 [==============================] - 0s 4ms/step - loss: 1.0571 - lr: 0.0010\n",
            "Epoch 46/200\n",
            "6/6 [==============================] - 0s 3ms/step - loss: 1.0556 - lr: 0.0010\n",
            "Epoch 47/200\n",
            "6/6 [==============================] - 0s 3ms/step - loss: 1.1360 - lr: 0.0010\n",
            "Epoch 48/200\n",
            "6/6 [==============================] - 0s 3ms/step - loss: 1.1363 - lr: 0.0010\n",
            "Epoch 49/200\n",
            "6/6 [==============================] - 0s 3ms/step - loss: 1.3404 - lr: 0.0010\n",
            "Epoch 50/200\n",
            "6/6 [==============================] - 0s 3ms/step - loss: 1.3979 - lr: 0.0010\n",
            "Epoch 51/200\n",
            "6/6 [==============================] - 0s 3ms/step - loss: 1.4530 - lr: 0.0010\n",
            "Epoch 52/200\n",
            "6/6 [==============================] - 0s 3ms/step - loss: 1.7330 - lr: 1.0000e-04\n",
            "Epoch 53/200\n",
            "6/6 [==============================] - 0s 3ms/step - loss: 3.5017 - lr: 1.0000e-04\n",
            "Epoch 54/200\n",
            "6/6 [==============================] - 0s 4ms/step - loss: 1.4246 - lr: 1.0000e-04\n",
            "Epoch 55/200\n",
            "6/6 [==============================] - 0s 3ms/step - loss: 1.0396 - lr: 1.0000e-04\n",
            "Epoch 56/200\n",
            "6/6 [==============================] - 0s 3ms/step - loss: 1.2113 - lr: 1.0000e-04\n",
            "Epoch 57/200\n",
            "6/6 [==============================] - 0s 3ms/step - loss: 0.8859 - lr: 1.0000e-04\n",
            "Epoch 58/200\n",
            "6/6 [==============================] - 0s 3ms/step - loss: 0.9155 - lr: 1.0000e-04\n",
            "Epoch 59/200\n",
            "6/6 [==============================] - 0s 3ms/step - loss: 0.9411 - lr: 1.0000e-04\n",
            "Epoch 60/200\n",
            "6/6 [==============================] - 0s 3ms/step - loss: 0.9012 - lr: 1.0000e-04\n",
            "Epoch 61/200\n",
            "6/6 [==============================] - 0s 3ms/step - loss: 0.8705 - lr: 1.0000e-04\n",
            "Epoch 62/200\n",
            "6/6 [==============================] - 0s 3ms/step - loss: 0.8711 - lr: 1.0000e-04\n",
            "Epoch 63/200\n",
            "6/6 [==============================] - 0s 3ms/step - loss: 0.8709 - lr: 1.0000e-04\n",
            "Epoch 64/200\n",
            "6/6 [==============================] - 0s 3ms/step - loss: 0.8760 - lr: 1.0000e-04\n",
            "Epoch 65/200\n",
            "6/6 [==============================] - 0s 3ms/step - loss: 0.8734 - lr: 1.0000e-04\n",
            "Epoch 66/200\n",
            "6/6 [==============================] - 0s 3ms/step - loss: 0.8730 - lr: 1.0000e-04\n",
            "Epoch 67/200\n",
            "6/6 [==============================] - 0s 3ms/step - loss: 0.8739 - lr: 1.0000e-04\n",
            "Epoch 68/200\n",
            "6/6 [==============================] - 0s 3ms/step - loss: 0.8768 - lr: 1.0000e-04\n",
            "Epoch 69/200\n",
            "6/6 [==============================] - 0s 4ms/step - loss: 0.8753 - lr: 1.0000e-04\n",
            "Epoch 70/200\n",
            "6/6 [==============================] - 0s 3ms/step - loss: 0.8779 - lr: 1.0000e-04\n",
            "Epoch 71/200\n",
            "6/6 [==============================] - 0s 3ms/step - loss: 0.8696 - lr: 1.0000e-04\n",
            "Epoch 72/200\n",
            "6/6 [==============================] - 0s 3ms/step - loss: 0.8757 - lr: 1.0000e-04\n",
            "Epoch 73/200\n",
            "6/6 [==============================] - 0s 3ms/step - loss: 0.8757 - lr: 1.0000e-04\n",
            "Epoch 74/200\n",
            "6/6 [==============================] - 0s 3ms/step - loss: 0.8702 - lr: 1.0000e-04\n",
            "Epoch 75/200\n",
            "6/6 [==============================] - 0s 3ms/step - loss: 0.8713 - lr: 1.0000e-04\n",
            "Epoch 76/200\n",
            "6/6 [==============================] - 0s 3ms/step - loss: 0.8704 - lr: 1.0000e-04\n",
            "Epoch 77/200\n",
            "6/6 [==============================] - 0s 3ms/step - loss: 0.8814 - lr: 1.0000e-04\n",
            "Epoch 78/200\n",
            "6/6 [==============================] - 0s 3ms/step - loss: 0.8807 - lr: 1.0000e-04\n",
            "Epoch 79/200\n",
            "6/6 [==============================] - 0s 3ms/step - loss: 0.8701 - lr: 1.0000e-04\n",
            "Epoch 80/200\n",
            "6/6 [==============================] - 0s 3ms/step - loss: 0.8864 - lr: 1.0000e-04\n",
            "Epoch 81/200\n",
            "6/6 [==============================] - 0s 3ms/step - loss: 0.9532 - lr: 1.0000e-04\n",
            "Epoch 82/200\n",
            "6/6 [==============================] - 0s 3ms/step - loss: 0.9302 - lr: 1.0000e-04\n",
            "Epoch 83/200\n",
            "6/6 [==============================] - 0s 3ms/step - loss: 0.8760 - lr: 1.0000e-04\n",
            "Epoch 84/200\n",
            "6/6 [==============================] - 0s 4ms/step - loss: 0.8984 - lr: 1.0000e-04\n",
            "Epoch 85/200\n",
            "6/6 [==============================] - 0s 3ms/step - loss: 0.8714 - lr: 1.0000e-04\n",
            "Epoch 86/200\n",
            "6/6 [==============================] - 0s 4ms/step - loss: 0.8930 - lr: 1.0000e-04\n",
            "Epoch 87/200\n",
            "6/6 [==============================] - 0s 4ms/step - loss: 0.8852 - lr: 1.0000e-04\n",
            "Epoch 88/200\n",
            "6/6 [==============================] - 0s 4ms/step - loss: 0.8712 - lr: 1.0000e-04\n",
            "Epoch 89/200\n",
            "6/6 [==============================] - 0s 3ms/step - loss: 0.8792 - lr: 1.0000e-04\n",
            "Epoch 90/200\n",
            "6/6 [==============================] - 0s 4ms/step - loss: 0.8757 - lr: 1.0000e-04\n",
            "Epoch 91/200\n",
            "6/6 [==============================] - 0s 3ms/step - loss: 0.8775 - lr: 1.0000e-04\n",
            "Epoch 92/200\n",
            "6/6 [==============================] - 0s 3ms/step - loss: 0.8706 - lr: 1.0000e-04\n",
            "Epoch 93/200\n",
            "6/6 [==============================] - 0s 3ms/step - loss: 0.8834 - lr: 1.0000e-04\n",
            "Epoch 94/200\n",
            "6/6 [==============================] - 0s 3ms/step - loss: 0.8853 - lr: 1.0000e-04\n",
            "Epoch 95/200\n",
            "6/6 [==============================] - 0s 3ms/step - loss: 0.8722 - lr: 1.0000e-04\n",
            "Epoch 96/200\n",
            "6/6 [==============================] - 0s 3ms/step - loss: 0.8760 - lr: 1.0000e-04\n",
            "Epoch 97/200\n",
            "6/6 [==============================] - 0s 3ms/step - loss: 0.8692 - lr: 1.0000e-04\n",
            "Epoch 98/200\n",
            "6/6 [==============================] - 0s 3ms/step - loss: 0.8735 - lr: 1.0000e-04\n",
            "Epoch 99/200\n",
            "6/6 [==============================] - 0s 3ms/step - loss: 0.8780 - lr: 1.0000e-04\n",
            "Epoch 100/200\n",
            "6/6 [==============================] - 0s 3ms/step - loss: 0.8752 - lr: 1.0000e-04\n",
            "Epoch 101/200\n",
            "6/6 [==============================] - 0s 3ms/step - loss: 0.8847 - lr: 1.0000e-04\n",
            "Epoch 102/200\n",
            "6/6 [==============================] - 0s 3ms/step - loss: 0.8831 - lr: 1.0000e-04\n",
            "Epoch 103/200\n",
            "6/6 [==============================] - 0s 3ms/step - loss: 0.8745 - lr: 1.0000e-04\n",
            "Epoch 104/200\n",
            "6/6 [==============================] - 0s 4ms/step - loss: 0.8716 - lr: 1.0000e-04\n",
            "Epoch 105/200\n",
            "6/6 [==============================] - 0s 3ms/step - loss: 0.8721 - lr: 1.0000e-04\n",
            "Epoch 106/200\n",
            "6/6 [==============================] - 0s 3ms/step - loss: 0.8821 - lr: 1.0000e-04\n",
            "Epoch 107/200\n",
            "6/6 [==============================] - 0s 3ms/step - loss: 0.8926 - lr: 1.0000e-04\n",
            "Epoch 108/200\n",
            "6/6 [==============================] - 0s 4ms/step - loss: 0.8814 - lr: 1.0000e-04\n",
            "Epoch 109/200\n",
            "6/6 [==============================] - 0s 5ms/step - loss: 0.8775 - lr: 1.0000e-04\n",
            "Epoch 110/200\n",
            "6/6 [==============================] - 0s 3ms/step - loss: 0.8978 - lr: 1.0000e-04\n",
            "Epoch 111/200\n",
            "6/6 [==============================] - 0s 3ms/step - loss: 0.8728 - lr: 1.0000e-04\n",
            "Epoch 112/200\n",
            "6/6 [==============================] - 0s 4ms/step - loss: 0.8995 - lr: 1.0000e-04\n",
            "Epoch 113/200\n",
            "6/6 [==============================] - 0s 3ms/step - loss: 0.8969 - lr: 1.0000e-04\n",
            "Epoch 114/200\n",
            "6/6 [==============================] - 0s 3ms/step - loss: 0.8773 - lr: 1.0000e-04\n",
            "Epoch 115/200\n",
            "6/6 [==============================] - 0s 4ms/step - loss: 0.8766 - lr: 1.0000e-04\n",
            "Epoch 116/200\n",
            "6/6 [==============================] - 0s 3ms/step - loss: 0.8759 - lr: 1.0000e-04\n",
            "Epoch 117/200\n",
            "6/6 [==============================] - 0s 3ms/step - loss: 0.8739 - lr: 1.0000e-04\n",
            "Epoch 118/200\n",
            "6/6 [==============================] - 0s 3ms/step - loss: 0.8678 - lr: 1.0000e-04\n",
            "Epoch 119/200\n",
            "6/6 [==============================] - 0s 3ms/step - loss: 0.9217 - lr: 1.0000e-04\n",
            "Epoch 120/200\n",
            "6/6 [==============================] - 0s 3ms/step - loss: 0.9266 - lr: 1.0000e-04\n",
            "Epoch 121/200\n",
            "6/6 [==============================] - 0s 3ms/step - loss: 0.8795 - lr: 1.0000e-04\n",
            "Epoch 122/200\n",
            "6/6 [==============================] - 0s 3ms/step - loss: 0.8738 - lr: 1.0000e-04\n",
            "Epoch 123/200\n",
            "6/6 [==============================] - 0s 3ms/step - loss: 0.8696 - lr: 1.0000e-04\n",
            "Epoch 124/200\n",
            "6/6 [==============================] - 0s 3ms/step - loss: 0.8735 - lr: 1.0000e-04\n",
            "Epoch 125/200\n",
            "6/6 [==============================] - 0s 3ms/step - loss: 0.8709 - lr: 1.0000e-04\n",
            "Epoch 126/200\n",
            "6/6 [==============================] - 0s 3ms/step - loss: 0.8696 - lr: 1.0000e-04\n",
            "Epoch 127/200\n",
            "6/6 [==============================] - 0s 3ms/step - loss: 0.8718 - lr: 1.0000e-04\n",
            "Epoch 128/200\n",
            "6/6 [==============================] - 0s 3ms/step - loss: 0.8719 - lr: 1.0000e-04\n",
            "Epoch 129/200\n",
            "6/6 [==============================] - 0s 3ms/step - loss: 0.8745 - lr: 1.0000e-04\n",
            "Epoch 130/200\n",
            "6/6 [==============================] - 0s 3ms/step - loss: 0.8699 - lr: 1.0000e-04\n",
            "Epoch 131/200\n",
            "6/6 [==============================] - 0s 3ms/step - loss: 0.8761 - lr: 1.0000e-04\n",
            "Epoch 132/200\n",
            "6/6 [==============================] - 0s 3ms/step - loss: 0.8794 - lr: 1.0000e-04\n",
            "Epoch 133/200\n",
            "6/6 [==============================] - 0s 4ms/step - loss: 0.8831 - lr: 1.0000e-04\n",
            "Epoch 134/200\n",
            "6/6 [==============================] - 0s 3ms/step - loss: 0.9474 - lr: 1.0000e-04\n",
            "Epoch 135/200\n",
            "6/6 [==============================] - 0s 3ms/step - loss: 0.8763 - lr: 1.0000e-04\n",
            "Epoch 136/200\n",
            "6/6 [==============================] - 0s 3ms/step - loss: 0.9044 - lr: 1.0000e-04\n",
            "Epoch 137/200\n",
            "6/6 [==============================] - 0s 3ms/step - loss: 0.8702 - lr: 1.0000e-04\n",
            "Epoch 138/200\n",
            "6/6 [==============================] - 0s 4ms/step - loss: 0.8895 - lr: 1.0000e-04\n",
            "Epoch 139/200\n",
            "6/6 [==============================] - 0s 3ms/step - loss: 0.8814 - lr: 1.0000e-04\n",
            "Epoch 140/200\n",
            "6/6 [==============================] - 0s 3ms/step - loss: 0.9214 - lr: 1.0000e-04\n",
            "Epoch 141/200\n",
            "6/6 [==============================] - 0s 3ms/step - loss: 0.9253 - lr: 1.0000e-04\n",
            "Epoch 142/200\n",
            "6/6 [==============================] - 0s 3ms/step - loss: 0.8630 - lr: 1.0000e-04\n",
            "Epoch 143/200\n",
            "6/6 [==============================] - 0s 3ms/step - loss: 0.8817 - lr: 1.0000e-04\n",
            "Epoch 144/200\n",
            "6/6 [==============================] - 0s 3ms/step - loss: 0.8729 - lr: 1.0000e-04\n",
            "Epoch 145/200\n",
            "6/6 [==============================] - 0s 3ms/step - loss: 0.8721 - lr: 1.0000e-04\n",
            "Epoch 146/200\n",
            "6/6 [==============================] - 0s 3ms/step - loss: 0.8724 - lr: 1.0000e-04\n",
            "Epoch 147/200\n",
            "6/6 [==============================] - 0s 5ms/step - loss: 0.8712 - lr: 1.0000e-04\n",
            "Epoch 148/200\n",
            "6/6 [==============================] - 0s 4ms/step - loss: 0.8734 - lr: 1.0000e-04\n",
            "Epoch 149/200\n",
            "6/6 [==============================] - 0s 3ms/step - loss: 0.8717 - lr: 1.0000e-04\n",
            "Epoch 150/200\n",
            "6/6 [==============================] - 0s 3ms/step - loss: 0.8735 - lr: 1.0000e-04\n",
            "Epoch 151/200\n",
            "6/6 [==============================] - 0s 3ms/step - loss: 0.8705 - lr: 1.0000e-04\n",
            "Epoch 152/200\n",
            "6/6 [==============================] - 0s 3ms/step - loss: 0.8760 - lr: 1.0000e-04\n",
            "Epoch 153/200\n",
            "6/6 [==============================] - 0s 3ms/step - loss: 0.8800 - lr: 1.0000e-04\n",
            "Epoch 154/200\n",
            "6/6 [==============================] - 0s 3ms/step - loss: 0.8859 - lr: 1.0000e-04\n",
            "Epoch 155/200\n",
            "6/6 [==============================] - 0s 3ms/step - loss: 0.8778 - lr: 1.0000e-04\n",
            "Epoch 156/200\n",
            "6/6 [==============================] - 0s 3ms/step - loss: 0.8689 - lr: 1.0000e-04\n",
            "Epoch 157/200\n",
            "6/6 [==============================] - 0s 4ms/step - loss: 0.8699 - lr: 1.0000e-04\n",
            "Epoch 158/200\n",
            "6/6 [==============================] - 0s 3ms/step - loss: 0.8750 - lr: 1.0000e-04\n",
            "Epoch 159/200\n",
            "6/6 [==============================] - 0s 3ms/step - loss: 0.8748 - lr: 1.0000e-04\n",
            "Epoch 160/200\n",
            "6/6 [==============================] - 0s 3ms/step - loss: 0.8725 - lr: 1.0000e-04\n",
            "Epoch 161/200\n",
            "6/6 [==============================] - 0s 4ms/step - loss: 0.8730 - lr: 1.0000e-04\n",
            "Epoch 162/200\n",
            "6/6 [==============================] - 0s 3ms/step - loss: 0.8708 - lr: 1.0000e-04\n",
            "Epoch 163/200\n",
            "6/6 [==============================] - 0s 3ms/step - loss: 0.8701 - lr: 1.0000e-04\n",
            "Epoch 164/200\n",
            "6/6 [==============================] - 0s 3ms/step - loss: 0.8721 - lr: 1.0000e-04\n",
            "Epoch 165/200\n",
            "6/6 [==============================] - 0s 4ms/step - loss: 0.8716 - lr: 1.0000e-04\n",
            "Epoch 166/200\n",
            "6/6 [==============================] - 0s 4ms/step - loss: 0.8782 - lr: 1.0000e-04\n",
            "Epoch 167/200\n",
            "6/6 [==============================] - 0s 3ms/step - loss: 0.8785 - lr: 1.0000e-04\n",
            "Epoch 168/200\n",
            "6/6 [==============================] - 0s 3ms/step - loss: 0.8742 - lr: 1.0000e-04\n",
            "Epoch 169/200\n",
            "6/6 [==============================] - 0s 3ms/step - loss: 0.8737 - lr: 1.0000e-04\n",
            "Epoch 170/200\n",
            "6/6 [==============================] - 0s 3ms/step - loss: 0.8730 - lr: 1.0000e-04\n",
            "Epoch 171/200\n",
            "6/6 [==============================] - 0s 3ms/step - loss: 0.8767 - lr: 1.0000e-04\n",
            "Epoch 172/200\n",
            "6/6 [==============================] - 0s 3ms/step - loss: 0.8774 - lr: 1.0000e-04\n",
            "Epoch 173/200\n",
            "6/6 [==============================] - 0s 3ms/step - loss: 0.8766 - lr: 1.0000e-04\n",
            "Epoch 174/200\n",
            "6/6 [==============================] - 0s 3ms/step - loss: 0.8814 - lr: 1.0000e-04\n",
            "Epoch 175/200\n",
            "6/6 [==============================] - 0s 3ms/step - loss: 0.8794 - lr: 1.0000e-04\n",
            "Epoch 176/200\n",
            "6/6 [==============================] - 0s 4ms/step - loss: 0.8713 - lr: 1.0000e-04\n",
            "Epoch 177/200\n",
            "6/6 [==============================] - 0s 3ms/step - loss: 0.8760 - lr: 1.0000e-04\n",
            "Epoch 178/200\n",
            "6/6 [==============================] - 0s 3ms/step - loss: 0.8744 - lr: 1.0000e-04\n",
            "Epoch 179/200\n",
            "6/6 [==============================] - 0s 3ms/step - loss: 0.8727 - lr: 1.0000e-04\n",
            "Epoch 180/200\n",
            "6/6 [==============================] - 0s 3ms/step - loss: 0.8797 - lr: 1.0000e-04\n",
            "Epoch 181/200\n",
            "6/6 [==============================] - 0s 3ms/step - loss: 0.9126 - lr: 1.0000e-04\n",
            "Epoch 182/200\n",
            "6/6 [==============================] - 0s 3ms/step - loss: 0.8794 - lr: 1.0000e-04\n",
            "Epoch 183/200\n",
            "6/6 [==============================] - 0s 3ms/step - loss: 0.8717 - lr: 1.0000e-04\n",
            "Epoch 184/200\n",
            "6/6 [==============================] - 0s 3ms/step - loss: 0.8778 - lr: 1.0000e-04\n",
            "Epoch 185/200\n",
            "6/6 [==============================] - 0s 4ms/step - loss: 0.8705 - lr: 1.0000e-04\n",
            "Epoch 186/200\n",
            "6/6 [==============================] - 0s 4ms/step - loss: 0.8735 - lr: 1.0000e-04\n",
            "Epoch 187/200\n",
            "6/6 [==============================] - 0s 4ms/step - loss: 0.8798 - lr: 1.0000e-04\n",
            "Epoch 188/200\n",
            "6/6 [==============================] - 0s 3ms/step - loss: 0.8738 - lr: 1.0000e-04\n",
            "Epoch 189/200\n",
            "6/6 [==============================] - 0s 3ms/step - loss: 0.8744 - lr: 1.0000e-04\n",
            "Epoch 190/200\n",
            "6/6 [==============================] - 0s 3ms/step - loss: 0.8787 - lr: 1.0000e-04\n",
            "Epoch 191/200\n",
            "6/6 [==============================] - 0s 3ms/step - loss: 0.8721 - lr: 1.0000e-04\n",
            "Epoch 192/200\n",
            "6/6 [==============================] - 0s 3ms/step - loss: 0.8757 - lr: 1.0000e-04\n",
            "Epoch 193/200\n",
            "6/6 [==============================] - 0s 3ms/step - loss: 0.8744 - lr: 1.0000e-04\n",
            "Epoch 194/200\n",
            "6/6 [==============================] - 0s 3ms/step - loss: 0.8727 - lr: 1.0000e-04\n",
            "Epoch 195/200\n",
            "6/6 [==============================] - 0s 3ms/step - loss: 0.8714 - lr: 1.0000e-04\n",
            "Epoch 196/200\n",
            "6/6 [==============================] - 0s 4ms/step - loss: 0.8719 - lr: 1.0000e-04\n",
            "Epoch 197/200\n",
            "6/6 [==============================] - 0s 4ms/step - loss: 0.8726 - lr: 1.0000e-04\n",
            "Epoch 198/200\n",
            "6/6 [==============================] - 0s 4ms/step - loss: 0.8743 - lr: 1.0000e-04\n",
            "Epoch 199/200\n",
            "6/6 [==============================] - 0s 3ms/step - loss: 0.8711 - lr: 1.0000e-04\n",
            "Epoch 200/200\n",
            "6/6 [==============================] - 0s 3ms/step - loss: 0.8748 - lr: 1.0000e-04\n"
          ]
        }
      ]
    },
    {
      "cell_type": "code",
      "source": [
        "# loss curve\n",
        "import matplotlib.pyplot as plt\n",
        "\n",
        "plt.plot(history.history['loss'], label='Loss')\n",
        "plt.legend()"
      ],
      "metadata": {
        "colab": {
          "base_uri": "https://localhost:8080/",
          "height": 282
        },
        "id": "3tShDKD6iOlq",
        "outputId": "cc0de20f-7a33-4263-9c0e-692cbaa2e332"
      },
      "execution_count": 27,
      "outputs": [
        {
          "output_type": "execute_result",
          "data": {
            "text/plain": [
              "<matplotlib.legend.Legend at 0x7ff97fb0b0d0>"
            ]
          },
          "metadata": {},
          "execution_count": 27
        },
        {
          "output_type": "display_data",
          "data": {
            "text/plain": [
              "<Figure size 432x288 with 1 Axes>"
            ],
            "image/png": "[encoded data removed]"
          },
          "metadata": {
            "needs_background": "light"
          }
        }
      ]
    },
    {
      "cell_type": "code",
      "source": [
        "model.summary()"
      ],
      "metadata": {
        "colab": {
          "base_uri": "https://localhost:8080/"
        },
        "id": "i--_nHaBidkh",
        "outputId": "5c2bed51-41fd-47fb-959e-0212ce92d9f2"
      },
      "execution_count": 28,
      "outputs": [
        {
          "output_type": "stream",
          "name": "stdout",
          "text": [
            "Model: \"sequential_1\"\n",
            "_________________________________________________________________\n",
            " Layer (type)                Output Shape              Param #   \n",
            "=================================================================\n",
            " dense_1 (Dense)             (None, 1)                 2         \n",
            "                                                                 \n",
            "=================================================================\n",
            "Total params: 2\n",
            "Trainable params: 2\n",
            "Non-trainable params: 0\n",
            "_________________________________________________________________\n"
          ]
        }
      ]
    },
    {
      "cell_type": "code",
      "source": [
        "model.layers"
      ],
      "metadata": {
        "colab": {
          "base_uri": "https://localhost:8080/"
        },
        "id": "L5x1_yRXi6lr",
        "outputId": "0a734f77-cbba-4b7c-86ec-cc02c32930d4"
      },
      "execution_count": 34,
      "outputs": [
        {
          "output_type": "execute_result",
          "data": {
            "text/plain": [
              "[<keras.layers.core.dense.Dense at 0x7ff97f9d0c50>]"
            ]
          },
          "metadata": {},
          "execution_count": 34
        }
      ]
    },
    {
      "cell_type": "code",
      "source": [
        "model.layers[0].get_weights()"
      ],
      "metadata": {
        "colab": {
          "base_uri": "https://localhost:8080/"
        },
        "id": "2PpG7qXdi83h",
        "outputId": "233ac0ec-d0f4-4a09-8b61-654574b77229"
      },
      "execution_count": 36,
      "outputs": [
        {
          "output_type": "execute_result",
          "data": {
            "text/plain": [
              "[array([[0.34052786]], dtype=float32), array([17.772388], dtype=float32)]"
            ]
          },
          "metadata": {},
          "execution_count": 36
        }
      ]
    },
    {
      "cell_type": "code",
      "source": [
        "### make predictions"
      ],
      "metadata": {
        "id": "ZpiaTa8bjLq0"
      },
      "execution_count": 37,
      "outputs": []
    },
    {
      "cell_type": "code",
      "source": [
        "y_pred = model.predict(X).flatten()"
      ],
      "metadata": {
        "colab": {
          "base_uri": "https://localhost:8080/"
        },
        "id": "QAEr6teMpcc5",
        "outputId": "491cd48f-b887-4e61-b645-3e34e3cdac6a"
      },
      "execution_count": 39,
      "outputs": [
        {
          "output_type": "stream",
          "name": "stdout",
          "text": [
            "6/6 [==============================] - 0s 3ms/step\n"
          ]
        }
      ]
    },
    {
      "cell_type": "code",
      "source": [
        "plt.scatter(X,y)\n",
        "plt.plot(X, y_pred)"
      ],
      "metadata": {
        "colab": {
          "base_uri": "https://localhost:8080/",
          "height": 282
        },
        "id": "onmOnULLqsf4",
        "outputId": "31f77b5c-f29c-47ac-c18b-0e71fe7e74a3"
      },
      "execution_count": 40,
      "outputs": [
        {
          "output_type": "execute_result",
          "data": {
            "text/plain": [
              "[<matplotlib.lines.Line2D at 0x7ff97b1749d0>]"
            ]
          },
          "metadata": {},
          "execution_count": 40
        },
        {
          "output_type": "display_data",
          "data": {
            "text/plain": [
              "<Figure size 432x288 with 1 Axes>"
            ],
            "image/png": "[encoded data removed]"
          },
          "metadata": {
            "needs_background": "light"
          }
        }
      ]
    },
    {
      "cell_type": "code",
      "source": [
        "## manual calculation\n",
        "\n",
        "w,b  = model.layers[0].get_weights()\n",
        "X = X.reshape(-1,1)\n",
        "y_pred2 = (np.dot(X,w) + b).flatten()"
      ],
      "metadata": {
        "id": "Mg9P-Z6jq202"
      },
      "execution_count": 41,
      "outputs": []
    },
    {
      "cell_type": "code",
      "source": [
        "plt.scatter(X,y)\n",
        "plt.plot(X, y_pred2)"
      ],
      "metadata": {
        "colab": {
          "base_uri": "https://localhost:8080/",
          "height": 282
        },
        "id": "RdyjjwzCrQd-",
        "outputId": "5e9a7fbf-5a6d-46a9-f8fd-0096b355e0f9"
      },
      "execution_count": 42,
      "outputs": [
        {
          "output_type": "execute_result",
          "data": {
            "text/plain": [
              "[<matplotlib.lines.Line2D at 0x7ff97b0e8a10>]"
            ]
          },
          "metadata": {},
          "execution_count": 42
        },
        {
          "output_type": "display_data",
          "data": {
            "text/plain": [
              "<Figure size 432x288 with 1 Axes>"
            ],
            "image/png": "[encoded data removed]"
          },
          "metadata": {
            "needs_background": "light"
          }
        }
      ]
    },
    {
      "cell_type": "code",
      "source": [
        "np.allclose(y_pred, y_pred2)  # checking manually adn auto calculated prediction are same or not"
      ],
      "metadata": {
        "colab": {
          "base_uri": "https://localhost:8080/"
        },
        "id": "95Vok9FarS_i",
        "outputId": "7d2ab966-2903-4d60-a7f9-1bee3dcc94a7"
      },
      "execution_count": 44,
      "outputs": [
        {
          "output_type": "execute_result",
          "data": {
            "text/plain": [
              "True"
            ]
          },
          "metadata": {},
          "execution_count": 44
        }
      ]
    },
    {
      "cell_type": "code",
      "source": [
        "#There are two formats you can use to save an entire model to disk: the TensorFlow SavedModel format,\n",
        "# and the older Keras H5 format. The recommended format is SavedModel. It is the default when you use model.save().\n",
        "\n",
        "model.save('path/to/location')  #model.save() or tf.keras.models.save_model()\n",
        "model = tf.keras.models.load_model('path/to/location')"
      ],
      "metadata": {
        "id": "cW9nwyUpradl"
      },
      "execution_count": null,
      "outputs": []
    }
  ]
}