{
  "nbformat": 4,
  "nbformat_minor": 0,
  "metadata": {
    "colab": {
      "provenance": [],
      "authorship_tag": "ABX9TyMRzi9nJc2qg8M4U7gZkWiK",
      "include_colab_link": true
    },
    "kernelspec": {
      "name": "python3",
      "display_name": "Python 3"
    },
    "language_info": {
      "name": "python"
    }
  },
  "cells": [
    {
      "cell_type": "markdown",
      "metadata": {
        "id": "view-in-github",
        "colab_type": "text"
      },
      "source": [
        "<a href=\"https://colab.research.google.com/github/amitmeel/Tensorflow-2.0-Deep-Learning-and-Artificial-Intelligence/blob/main/2_Classificaion.ipynb\" target=\"_parent\"><img src=\"https://colab.research.google.com/assets/colab-badge.svg\" alt=\"Open In Colab\"/></a>"
      ]
    },
    {
      "cell_type": "code",
      "execution_count": 1,
      "metadata": {
        "id": "QYoLQaeVABTz"
      },
      "outputs": [],
      "source": [
        "from sklearn.datasets import load_breast_cancer"
      ]
    },
    {
      "cell_type": "code",
      "source": [
        "data = load_breast_cancer()"
      ],
      "metadata": {
        "id": "SUDXMcM9CeU4"
      },
      "execution_count": 2,
      "outputs": []
    },
    {
      "cell_type": "code",
      "source": [
        "type(data)"
      ],
      "metadata": {
        "colab": {
          "base_uri": "https://localhost:8080/"
        },
        "id": "j5HxuKCrCiqq",
        "outputId": "a9628510-8035-45a5-f9be-119d2ca84864"
      },
      "execution_count": 3,
      "outputs": [
        {
          "output_type": "execute_result",
          "data": {
            "text/plain": [
              "sklearn.utils.Bunch"
            ]
          },
          "metadata": {},
          "execution_count": 3
        }
      ]
    },
    {
      "cell_type": "code",
      "source": [
        "data.keys()"
      ],
      "metadata": {
        "colab": {
          "base_uri": "https://localhost:8080/"
        },
        "id": "pG_eZVd-Cjmv",
        "outputId": "e88a6fcf-92fc-42bf-e0a9-17f3a08f093e"
      },
      "execution_count": 5,
      "outputs": [
        {
          "output_type": "execute_result",
          "data": {
            "text/plain": [
              "dict_keys(['data', 'target', 'frame', 'target_names', 'DESCR', 'feature_names', 'filename', 'data_module'])"
            ]
          },
          "metadata": {},
          "execution_count": 5
        }
      ]
    },
    {
      "cell_type": "code",
      "source": [
        "data.data.shape, data.target.shape"
      ],
      "metadata": {
        "colab": {
          "base_uri": "https://localhost:8080/"
        },
        "id": "1OT-jE-MClUP",
        "outputId": "1f15b0a2-3ae0-4e78-99d5-81a3568bcbe5"
      },
      "execution_count": 7,
      "outputs": [
        {
          "output_type": "execute_result",
          "data": {
            "text/plain": [
              "((569, 30), (569,))"
            ]
          },
          "metadata": {},
          "execution_count": 7
        }
      ]
    },
    {
      "cell_type": "code",
      "source": [
        "data.feature_names, data.target_names"
      ],
      "metadata": {
        "colab": {
          "base_uri": "https://localhost:8080/"
        },
        "id": "fiHDsrfzDNA6",
        "outputId": "49f02f36-0ce5-41b1-abc8-85fe70f461af"
      },
      "execution_count": 8,
      "outputs": [
        {
          "output_type": "execute_result",
          "data": {
            "text/plain": [
              "(array(['mean radius', 'mean texture', 'mean perimeter', 'mean area',\n",
              "        'mean smoothness', 'mean compactness', 'mean concavity',\n",
              "        'mean concave points', 'mean symmetry', 'mean fractal dimension',\n",
              "        'radius error', 'texture error', 'perimeter error', 'area error',\n",
              "        'smoothness error', 'compactness error', 'concavity error',\n",
              "        'concave points error', 'symmetry error',\n",
              "        'fractal dimension error', 'worst radius', 'worst texture',\n",
              "        'worst perimeter', 'worst area', 'worst smoothness',\n",
              "        'worst compactness', 'worst concavity', 'worst concave points',\n",
              "        'worst symmetry', 'worst fractal dimension'], dtype='<U23'),\n",
              " array(['malignant', 'benign'], dtype='<U9'))"
            ]
          },
          "metadata": {},
          "execution_count": 8
        }
      ]
    },
    {
      "cell_type": "code",
      "source": [
        "from sklearn.model_selection import train_test_split"
      ],
      "metadata": {
        "id": "9kZ1gpmUDXkd"
      },
      "execution_count": 9,
      "outputs": []
    },
    {
      "cell_type": "code",
      "source": [
        "X_train, X_test, y_train, y_test = train_test_split(data.data, data.target, test_size=0.3)"
      ],
      "metadata": {
        "id": "JgwaQXvzDeKf"
      },
      "execution_count": 10,
      "outputs": []
    },
    {
      "cell_type": "code",
      "source": [
        "N, D = X_train.shape"
      ],
      "metadata": {
        "id": "k4FTyGx2DrVC"
      },
      "execution_count": 11,
      "outputs": []
    },
    {
      "cell_type": "code",
      "source": [
        "from sklearn.preprocessing import StandardScaler\n",
        "\n",
        "sc  = StandardScaler()\n",
        "X_train = sc.fit_transform(X_train)\n",
        "X_test = sc.transform(X_test)"
      ],
      "metadata": {
        "id": "2kY_55PeDya_"
      },
      "execution_count": 12,
      "outputs": []
    },
    {
      "cell_type": "code",
      "source": [
        "import tensorflow as tf"
      ],
      "metadata": {
        "id": "vPN8wp3RERlb"
      },
      "execution_count": 13,
      "outputs": []
    },
    {
      "cell_type": "code",
      "source": [
        "# build the model\n",
        "model = tf.keras.models.Sequential([\n",
        "    tf.keras.layers.Input(shape=(D,)),\n",
        "    tf.keras.layers.Dense(1, activation='sigmoid')\n",
        "])\n",
        "\n",
        "# compile the model\n",
        "model.compile(optimizer='adam',\n",
        "              loss = 'binary_crossentropy',\n",
        "              metrics = ['accuracy']\n",
        "        )\n",
        "\n",
        "# fit the model\n",
        "r = model.fit(X_train, y_train, validation_data=(X_test, y_test), epochs=100)\n",
        "\n",
        "# evaluate the model  , it will return loss and accuracy\n",
        "print(f'train score : {model.evaluate(X_train, y_train)}')\n",
        "print(f'test score : {model.evaluate(X_test, y_test)}')\n"
      ],
      "metadata": {
        "colab": {
          "base_uri": "https://localhost:8080/"
        },
        "id": "FeS0X4DeEU1G",
        "outputId": "20742a81-685a-4501-abc8-f92fa51c9500"
      },
      "execution_count": 16,
      "outputs": [
        {
          "output_type": "stream",
          "name": "stdout",
          "text": [
            "Epoch 1/100\n",
            "13/13 [==============================] - 2s 51ms/step - loss: 0.4889 - accuracy: 0.7889 - val_loss: 0.5146 - val_accuracy: 0.7836\n",
            "Epoch 2/100\n",
            "13/13 [==============================] - 0s 14ms/step - loss: 0.4410 - accuracy: 0.8317 - val_loss: 0.4760 - val_accuracy: 0.8129\n",
            "Epoch 3/100\n",
            "13/13 [==============================] - 0s 16ms/step - loss: 0.4016 - accuracy: 0.8492 - val_loss: 0.4437 - val_accuracy: 0.8246\n",
            "Epoch 4/100\n",
            "13/13 [==============================] - 0s 18ms/step - loss: 0.3690 - accuracy: 0.8744 - val_loss: 0.4168 - val_accuracy: 0.8480\n",
            "Epoch 5/100\n",
            "13/13 [==============================] - 0s 28ms/step - loss: 0.3416 - accuracy: 0.8945 - val_loss: 0.3946 - val_accuracy: 0.8480\n",
            "Epoch 6/100\n",
            "13/13 [==============================] - 0s 15ms/step - loss: 0.3183 - accuracy: 0.9020 - val_loss: 0.3751 - val_accuracy: 0.8596\n",
            "Epoch 7/100\n",
            "13/13 [==============================] - 0s 15ms/step - loss: 0.2978 - accuracy: 0.9070 - val_loss: 0.3588 - val_accuracy: 0.8655\n",
            "Epoch 8/100\n",
            "13/13 [==============================] - 0s 18ms/step - loss: 0.2808 - accuracy: 0.9146 - val_loss: 0.3440 - val_accuracy: 0.8713\n",
            "Epoch 9/100\n",
            "13/13 [==============================] - 0s 25ms/step - loss: 0.2652 - accuracy: 0.9221 - val_loss: 0.3310 - val_accuracy: 0.8830\n",
            "Epoch 10/100\n",
            "13/13 [==============================] - 0s 28ms/step - loss: 0.2514 - accuracy: 0.9347 - val_loss: 0.3196 - val_accuracy: 0.8830\n",
            "Epoch 11/100\n",
            "13/13 [==============================] - 0s 25ms/step - loss: 0.2396 - accuracy: 0.9397 - val_loss: 0.3091 - val_accuracy: 0.8889\n",
            "Epoch 12/100\n",
            "13/13 [==============================] - 0s 15ms/step - loss: 0.2286 - accuracy: 0.9422 - val_loss: 0.2998 - val_accuracy: 0.9006\n",
            "Epoch 13/100\n",
            "13/13 [==============================] - 0s 13ms/step - loss: 0.2191 - accuracy: 0.9447 - val_loss: 0.2913 - val_accuracy: 0.9123\n",
            "Epoch 14/100\n",
            "13/13 [==============================] - 0s 15ms/step - loss: 0.2101 - accuracy: 0.9472 - val_loss: 0.2835 - val_accuracy: 0.9123\n",
            "Epoch 15/100\n",
            "13/13 [==============================] - 0s 11ms/step - loss: 0.2022 - accuracy: 0.9472 - val_loss: 0.2763 - val_accuracy: 0.9181\n",
            "Epoch 16/100\n",
            "13/13 [==============================] - 0s 16ms/step - loss: 0.1948 - accuracy: 0.9472 - val_loss: 0.2698 - val_accuracy: 0.9181\n",
            "Epoch 17/100\n",
            "13/13 [==============================] - 0s 22ms/step - loss: 0.1881 - accuracy: 0.9472 - val_loss: 0.2635 - val_accuracy: 0.9240\n",
            "Epoch 18/100\n",
            "13/13 [==============================] - 0s 17ms/step - loss: 0.1821 - accuracy: 0.9472 - val_loss: 0.2578 - val_accuracy: 0.9240\n",
            "Epoch 19/100\n",
            "13/13 [==============================] - 0s 6ms/step - loss: 0.1764 - accuracy: 0.9497 - val_loss: 0.2527 - val_accuracy: 0.9240\n",
            "Epoch 20/100\n",
            "13/13 [==============================] - 0s 19ms/step - loss: 0.1712 - accuracy: 0.9523 - val_loss: 0.2476 - val_accuracy: 0.9240\n",
            "Epoch 21/100\n",
            "13/13 [==============================] - 0s 10ms/step - loss: 0.1663 - accuracy: 0.9523 - val_loss: 0.2430 - val_accuracy: 0.9240\n",
            "Epoch 22/100\n",
            "13/13 [==============================] - 0s 17ms/step - loss: 0.1618 - accuracy: 0.9523 - val_loss: 0.2388 - val_accuracy: 0.9298\n",
            "Epoch 23/100\n",
            "13/13 [==============================] - 0s 12ms/step - loss: 0.1576 - accuracy: 0.9548 - val_loss: 0.2348 - val_accuracy: 0.9298\n",
            "Epoch 24/100\n",
            "13/13 [==============================] - 0s 16ms/step - loss: 0.1536 - accuracy: 0.9548 - val_loss: 0.2310 - val_accuracy: 0.9298\n",
            "Epoch 25/100\n",
            "13/13 [==============================] - 0s 10ms/step - loss: 0.1499 - accuracy: 0.9548 - val_loss: 0.2274 - val_accuracy: 0.9298\n",
            "Epoch 26/100\n",
            "13/13 [==============================] - 0s 15ms/step - loss: 0.1465 - accuracy: 0.9548 - val_loss: 0.2240 - val_accuracy: 0.9298\n",
            "Epoch 27/100\n",
            "13/13 [==============================] - 0s 8ms/step - loss: 0.1432 - accuracy: 0.9573 - val_loss: 0.2209 - val_accuracy: 0.9298\n",
            "Epoch 28/100\n",
            "13/13 [==============================] - 0s 9ms/step - loss: 0.1401 - accuracy: 0.9573 - val_loss: 0.2178 - val_accuracy: 0.9298\n",
            "Epoch 29/100\n",
            "13/13 [==============================] - 0s 10ms/step - loss: 0.1373 - accuracy: 0.9573 - val_loss: 0.2148 - val_accuracy: 0.9357\n",
            "Epoch 30/100\n",
            "13/13 [==============================] - 0s 12ms/step - loss: 0.1346 - accuracy: 0.9573 - val_loss: 0.2120 - val_accuracy: 0.9415\n",
            "Epoch 31/100\n",
            "13/13 [==============================] - 0s 17ms/step - loss: 0.1318 - accuracy: 0.9573 - val_loss: 0.2094 - val_accuracy: 0.9415\n",
            "Epoch 32/100\n",
            "13/13 [==============================] - 0s 20ms/step - loss: 0.1294 - accuracy: 0.9598 - val_loss: 0.2070 - val_accuracy: 0.9415\n",
            "Epoch 33/100\n",
            "13/13 [==============================] - 0s 15ms/step - loss: 0.1271 - accuracy: 0.9598 - val_loss: 0.2045 - val_accuracy: 0.9415\n",
            "Epoch 34/100\n",
            "13/13 [==============================] - 0s 13ms/step - loss: 0.1248 - accuracy: 0.9598 - val_loss: 0.2022 - val_accuracy: 0.9415\n",
            "Epoch 35/100\n",
            "13/13 [==============================] - 0s 15ms/step - loss: 0.1226 - accuracy: 0.9598 - val_loss: 0.2001 - val_accuracy: 0.9415\n",
            "Epoch 36/100\n",
            "13/13 [==============================] - 0s 11ms/step - loss: 0.1207 - accuracy: 0.9598 - val_loss: 0.1979 - val_accuracy: 0.9415\n",
            "Epoch 37/100\n",
            "13/13 [==============================] - 0s 9ms/step - loss: 0.1187 - accuracy: 0.9598 - val_loss: 0.1961 - val_accuracy: 0.9415\n",
            "Epoch 38/100\n",
            "13/13 [==============================] - 0s 11ms/step - loss: 0.1170 - accuracy: 0.9623 - val_loss: 0.1939 - val_accuracy: 0.9415\n",
            "Epoch 39/100\n",
            "13/13 [==============================] - 0s 8ms/step - loss: 0.1151 - accuracy: 0.9623 - val_loss: 0.1921 - val_accuracy: 0.9415\n",
            "Epoch 40/100\n",
            "13/13 [==============================] - 0s 11ms/step - loss: 0.1133 - accuracy: 0.9623 - val_loss: 0.1903 - val_accuracy: 0.9415\n",
            "Epoch 41/100\n",
            "13/13 [==============================] - 0s 17ms/step - loss: 0.1116 - accuracy: 0.9623 - val_loss: 0.1887 - val_accuracy: 0.9415\n",
            "Epoch 42/100\n",
            "13/13 [==============================] - 0s 11ms/step - loss: 0.1101 - accuracy: 0.9623 - val_loss: 0.1869 - val_accuracy: 0.9474\n",
            "Epoch 43/100\n",
            "13/13 [==============================] - 0s 13ms/step - loss: 0.1086 - accuracy: 0.9623 - val_loss: 0.1853 - val_accuracy: 0.9474\n",
            "Epoch 44/100\n",
            "13/13 [==============================] - 0s 17ms/step - loss: 0.1071 - accuracy: 0.9623 - val_loss: 0.1837 - val_accuracy: 0.9532\n",
            "Epoch 45/100\n",
            "13/13 [==============================] - 0s 15ms/step - loss: 0.1057 - accuracy: 0.9623 - val_loss: 0.1822 - val_accuracy: 0.9532\n",
            "Epoch 46/100\n",
            "13/13 [==============================] - 0s 7ms/step - loss: 0.1044 - accuracy: 0.9648 - val_loss: 0.1808 - val_accuracy: 0.9532\n",
            "Epoch 47/100\n",
            "13/13 [==============================] - 0s 7ms/step - loss: 0.1031 - accuracy: 0.9673 - val_loss: 0.1795 - val_accuracy: 0.9532\n",
            "Epoch 48/100\n",
            "13/13 [==============================] - 0s 14ms/step - loss: 0.1019 - accuracy: 0.9673 - val_loss: 0.1782 - val_accuracy: 0.9532\n",
            "Epoch 49/100\n",
            "13/13 [==============================] - 0s 12ms/step - loss: 0.1007 - accuracy: 0.9673 - val_loss: 0.1768 - val_accuracy: 0.9532\n",
            "Epoch 50/100\n",
            "13/13 [==============================] - 0s 8ms/step - loss: 0.0994 - accuracy: 0.9673 - val_loss: 0.1757 - val_accuracy: 0.9532\n",
            "Epoch 51/100\n",
            "13/13 [==============================] - 0s 9ms/step - loss: 0.0983 - accuracy: 0.9673 - val_loss: 0.1744 - val_accuracy: 0.9532\n",
            "Epoch 52/100\n",
            "13/13 [==============================] - 0s 12ms/step - loss: 0.0972 - accuracy: 0.9673 - val_loss: 0.1733 - val_accuracy: 0.9532\n",
            "Epoch 53/100\n",
            "13/13 [==============================] - 0s 9ms/step - loss: 0.0962 - accuracy: 0.9673 - val_loss: 0.1721 - val_accuracy: 0.9532\n",
            "Epoch 54/100\n",
            "13/13 [==============================] - 0s 20ms/step - loss: 0.0951 - accuracy: 0.9673 - val_loss: 0.1711 - val_accuracy: 0.9532\n",
            "Epoch 55/100\n",
            "13/13 [==============================] - 0s 16ms/step - loss: 0.0941 - accuracy: 0.9673 - val_loss: 0.1699 - val_accuracy: 0.9532\n",
            "Epoch 56/100\n",
            "13/13 [==============================] - 0s 20ms/step - loss: 0.0931 - accuracy: 0.9673 - val_loss: 0.1689 - val_accuracy: 0.9532\n",
            "Epoch 57/100\n",
            "13/13 [==============================] - 0s 15ms/step - loss: 0.0922 - accuracy: 0.9673 - val_loss: 0.1679 - val_accuracy: 0.9532\n",
            "Epoch 58/100\n",
            "13/13 [==============================] - 0s 14ms/step - loss: 0.0914 - accuracy: 0.9698 - val_loss: 0.1670 - val_accuracy: 0.9532\n",
            "Epoch 59/100\n",
            "13/13 [==============================] - 0s 7ms/step - loss: 0.0903 - accuracy: 0.9724 - val_loss: 0.1659 - val_accuracy: 0.9532\n",
            "Epoch 60/100\n",
            "13/13 [==============================] - 0s 11ms/step - loss: 0.0895 - accuracy: 0.9724 - val_loss: 0.1650 - val_accuracy: 0.9532\n",
            "Epoch 61/100\n",
            "13/13 [==============================] - 0s 7ms/step - loss: 0.0886 - accuracy: 0.9724 - val_loss: 0.1641 - val_accuracy: 0.9532\n",
            "Epoch 62/100\n",
            "13/13 [==============================] - 0s 9ms/step - loss: 0.0878 - accuracy: 0.9724 - val_loss: 0.1633 - val_accuracy: 0.9532\n",
            "Epoch 63/100\n",
            "13/13 [==============================] - 0s 4ms/step - loss: 0.0871 - accuracy: 0.9724 - val_loss: 0.1623 - val_accuracy: 0.9532\n",
            "Epoch 64/100\n",
            "13/13 [==============================] - 0s 4ms/step - loss: 0.0863 - accuracy: 0.9749 - val_loss: 0.1616 - val_accuracy: 0.9532\n",
            "Epoch 65/100\n",
            "13/13 [==============================] - 0s 4ms/step - loss: 0.0855 - accuracy: 0.9749 - val_loss: 0.1609 - val_accuracy: 0.9532\n",
            "Epoch 66/100\n",
            "13/13 [==============================] - 0s 5ms/step - loss: 0.0848 - accuracy: 0.9749 - val_loss: 0.1602 - val_accuracy: 0.9532\n",
            "Epoch 67/100\n",
            "13/13 [==============================] - 0s 5ms/step - loss: 0.0841 - accuracy: 0.9749 - val_loss: 0.1594 - val_accuracy: 0.9532\n",
            "Epoch 68/100\n",
            "13/13 [==============================] - 0s 4ms/step - loss: 0.0834 - accuracy: 0.9749 - val_loss: 0.1586 - val_accuracy: 0.9532\n",
            "Epoch 69/100\n",
            "13/13 [==============================] - 0s 4ms/step - loss: 0.0827 - accuracy: 0.9749 - val_loss: 0.1579 - val_accuracy: 0.9532\n",
            "Epoch 70/100\n",
            "13/13 [==============================] - 0s 4ms/step - loss: 0.0820 - accuracy: 0.9749 - val_loss: 0.1572 - val_accuracy: 0.9532\n",
            "Epoch 71/100\n",
            "13/13 [==============================] - 0s 5ms/step - loss: 0.0814 - accuracy: 0.9749 - val_loss: 0.1564 - val_accuracy: 0.9532\n",
            "Epoch 72/100\n",
            "13/13 [==============================] - 0s 5ms/step - loss: 0.0807 - accuracy: 0.9749 - val_loss: 0.1558 - val_accuracy: 0.9532\n",
            "Epoch 73/100\n",
            "13/13 [==============================] - 0s 4ms/step - loss: 0.0801 - accuracy: 0.9749 - val_loss: 0.1551 - val_accuracy: 0.9532\n",
            "Epoch 74/100\n",
            "13/13 [==============================] - 0s 5ms/step - loss: 0.0795 - accuracy: 0.9749 - val_loss: 0.1545 - val_accuracy: 0.9532\n",
            "Epoch 75/100\n",
            "13/13 [==============================] - 0s 5ms/step - loss: 0.0789 - accuracy: 0.9774 - val_loss: 0.1539 - val_accuracy: 0.9532\n",
            "Epoch 76/100\n",
            "13/13 [==============================] - 0s 4ms/step - loss: 0.0784 - accuracy: 0.9774 - val_loss: 0.1534 - val_accuracy: 0.9532\n",
            "Epoch 77/100\n",
            "13/13 [==============================] - 0s 4ms/step - loss: 0.0778 - accuracy: 0.9774 - val_loss: 0.1529 - val_accuracy: 0.9532\n",
            "Epoch 78/100\n",
            "13/13 [==============================] - 0s 5ms/step - loss: 0.0772 - accuracy: 0.9774 - val_loss: 0.1522 - val_accuracy: 0.9532\n",
            "Epoch 79/100\n",
            "13/13 [==============================] - 0s 4ms/step - loss: 0.0767 - accuracy: 0.9799 - val_loss: 0.1515 - val_accuracy: 0.9532\n",
            "Epoch 80/100\n",
            "13/13 [==============================] - 0s 4ms/step - loss: 0.0761 - accuracy: 0.9799 - val_loss: 0.1510 - val_accuracy: 0.9532\n",
            "Epoch 81/100\n",
            "13/13 [==============================] - 0s 5ms/step - loss: 0.0756 - accuracy: 0.9799 - val_loss: 0.1505 - val_accuracy: 0.9532\n",
            "Epoch 82/100\n",
            "13/13 [==============================] - 0s 4ms/step - loss: 0.0751 - accuracy: 0.9799 - val_loss: 0.1501 - val_accuracy: 0.9532\n",
            "Epoch 83/100\n",
            "13/13 [==============================] - 0s 4ms/step - loss: 0.0746 - accuracy: 0.9799 - val_loss: 0.1496 - val_accuracy: 0.9532\n",
            "Epoch 84/100\n",
            "13/13 [==============================] - 0s 6ms/step - loss: 0.0741 - accuracy: 0.9799 - val_loss: 0.1490 - val_accuracy: 0.9532\n",
            "Epoch 85/100\n",
            "13/13 [==============================] - 0s 4ms/step - loss: 0.0736 - accuracy: 0.9799 - val_loss: 0.1486 - val_accuracy: 0.9532\n",
            "Epoch 86/100\n",
            "13/13 [==============================] - 0s 5ms/step - loss: 0.0731 - accuracy: 0.9799 - val_loss: 0.1481 - val_accuracy: 0.9532\n",
            "Epoch 87/100\n",
            "13/13 [==============================] - 0s 6ms/step - loss: 0.0727 - accuracy: 0.9799 - val_loss: 0.1476 - val_accuracy: 0.9532\n",
            "Epoch 88/100\n",
            "13/13 [==============================] - 0s 6ms/step - loss: 0.0722 - accuracy: 0.9799 - val_loss: 0.1472 - val_accuracy: 0.9532\n",
            "Epoch 89/100\n",
            "13/13 [==============================] - 0s 6ms/step - loss: 0.0718 - accuracy: 0.9799 - val_loss: 0.1468 - val_accuracy: 0.9532\n",
            "Epoch 90/100\n",
            "13/13 [==============================] - 0s 4ms/step - loss: 0.0713 - accuracy: 0.9799 - val_loss: 0.1463 - val_accuracy: 0.9532\n",
            "Epoch 91/100\n",
            "13/13 [==============================] - 0s 7ms/step - loss: 0.0709 - accuracy: 0.9799 - val_loss: 0.1459 - val_accuracy: 0.9532\n",
            "Epoch 92/100\n",
            "13/13 [==============================] - 0s 7ms/step - loss: 0.0705 - accuracy: 0.9799 - val_loss: 0.1456 - val_accuracy: 0.9532\n",
            "Epoch 93/100\n",
            "13/13 [==============================] - 0s 6ms/step - loss: 0.0701 - accuracy: 0.9799 - val_loss: 0.1451 - val_accuracy: 0.9532\n",
            "Epoch 94/100\n",
            "13/13 [==============================] - 0s 5ms/step - loss: 0.0696 - accuracy: 0.9799 - val_loss: 0.1448 - val_accuracy: 0.9474\n",
            "Epoch 95/100\n",
            "13/13 [==============================] - 0s 7ms/step - loss: 0.0693 - accuracy: 0.9799 - val_loss: 0.1444 - val_accuracy: 0.9474\n",
            "Epoch 96/100\n",
            "13/13 [==============================] - 0s 7ms/step - loss: 0.0689 - accuracy: 0.9799 - val_loss: 0.1442 - val_accuracy: 0.9474\n",
            "Epoch 97/100\n",
            "13/13 [==============================] - 0s 6ms/step - loss: 0.0685 - accuracy: 0.9799 - val_loss: 0.1438 - val_accuracy: 0.9474\n",
            "Epoch 98/100\n",
            "13/13 [==============================] - 0s 5ms/step - loss: 0.0680 - accuracy: 0.9799 - val_loss: 0.1434 - val_accuracy: 0.9474\n",
            "Epoch 99/100\n",
            "13/13 [==============================] - 0s 4ms/step - loss: 0.0677 - accuracy: 0.9799 - val_loss: 0.1430 - val_accuracy: 0.9474\n",
            "Epoch 100/100\n",
            "13/13 [==============================] - 0s 5ms/step - loss: 0.0673 - accuracy: 0.9799 - val_loss: 0.1427 - val_accuracy: 0.9474\n",
            "13/13 [==============================] - 0s 2ms/step - loss: 0.0671 - accuracy: 0.9799\n",
            "train score : [0.0670536532998085, 0.979899525642395]\n",
            "6/6 [==============================] - 0s 3ms/step - loss: 0.1427 - accuracy: 0.9474\n",
            "test score : [0.1426675021648407, 0.9473684430122375]\n"
          ]
        }
      ]
    },
    {
      "cell_type": "code",
      "source": [
        "# loss curve\n",
        "import matplotlib.pyplot as plt\n",
        "\n",
        "plt.plot(r.history['loss'], label='Loss')\n",
        "plt.plot(r.history['val_loss'], label='Validation Loss')\n",
        "plt.legend()"
      ],
      "metadata": {
        "colab": {
          "base_uri": "https://localhost:8080/",
          "height": 282
        },
        "id": "0JrtgPebGH1T",
        "outputId": "e821abac-6c3c-4f14-ecef-312072878797"
      },
      "execution_count": 17,
      "outputs": [
        {
          "output_type": "execute_result",
          "data": {
            "text/plain": [
              "<matplotlib.legend.Legend at 0x7f943896aa90>"
            ]
          },
          "metadata": {},
          "execution_count": 17
        },
        {
          "output_type": "display_data",
          "data": {
            "text/plain": [
              "<Figure size 432x288 with 1 Axes>"
            ],
            "image/png": "[encoded data removed]"
          },
          "metadata": {
            "needs_background": "light"
          }
        }
      ]
    },
    {
      "cell_type": "code",
      "source": [
        "# accuracy curve\n",
        "import matplotlib.pyplot as plt\n",
        "\n",
        "plt.plot(r.history['accuracy'], label='Accuracy')\n",
        "plt.plot(r.history['val_accuracy'], label='Validation Accuracy')\n",
        "plt.legend()"
      ],
      "metadata": {
        "colab": {
          "base_uri": "https://localhost:8080/",
          "height": 282
        },
        "id": "ejjAf_mmGwD7",
        "outputId": "339e087a-9d99-46f7-9c22-631719a7c727"
      },
      "execution_count": 20,
      "outputs": [
        {
          "output_type": "execute_result",
          "data": {
            "text/plain": [
              "<matplotlib.legend.Legend at 0x7f9438426590>"
            ]
          },
          "metadata": {},
          "execution_count": 20
        },
        {
          "output_type": "display_data",
          "data": {
            "text/plain": [
              "<Figure size 432x288 with 1 Axes>"
            ],
            "image/png": "[encoded data removed]"
          },
          "metadata": {
            "needs_background": "light"
          }
        }
      ]
    },
    {
      "cell_type": "code",
      "source": [],
      "metadata": {
        "id": "U4n3IL0sHKRW"
      },
      "execution_count": null,
      "outputs": []
    }
  ]
}